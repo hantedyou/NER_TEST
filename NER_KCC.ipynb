{
 "cells": [
  {
   "cell_type": "code",
   "execution_count": 1,
   "metadata": {},
   "outputs": [],
   "source": [
    "from ckiptagger import data_utils, construct_dictionary"
   ]
  },
  {
   "cell_type": "code",
   "execution_count": null,
   "metadata": {},
   "outputs": [],
   "source": [
    "import tensorflow as tf\n",
    "import keras\n",
    "\n",
    "import pandas as pd\n",
    "import numpy as np\n",
    "import matplotlib.pyplot as plt\n",
    "import gc\n"
   ]
  },
  {
   "cell_type": "code",
   "execution_count": null,
   "metadata": {},
   "outputs": [],
   "source": [
    "from ckiptagger import WS, POS, NER"
   ]
  },
  {
   "cell_type": "code",
   "execution_count": null,
   "metadata": {},
   "outputs": [],
   "source": [
    "ws = WS(\"./data\")\n",
    "pos = POS(\"./data\")\n",
    "ner = NER(\"./data\")"
   ]
  },
  {
   "cell_type": "code",
   "execution_count": 5,
   "metadata": {},
   "outputs": [],
   "source": [
    "data_path = \"KCC_Data/KCCNews11554.csv\""
   ]
  },
  {
   "cell_type": "code",
   "execution_count": 6,
   "metadata": {},
   "outputs": [],
   "source": [
    "data = pd.read_csv(data_path) #, encoding=\"latin1\")"
   ]
  },
  {
   "cell_type": "code",
   "execution_count": 7,
   "metadata": {},
   "outputs": [
    {
     "data": {
      "text/plain": [
       "(11554, pandas.core.series.Series)"
      ]
     },
     "execution_count": 7,
     "metadata": {},
     "output_type": "execute_result"
    }
   ],
   "source": [
    "text = data['Text'] #這邊取出就變成Series\n",
    "len(text),type(text)"
   ]
  },
  {
   "cell_type": "code",
   "execution_count": 8,
   "metadata": {},
   "outputs": [],
   "source": [
    "ls_Test = list(text[200:250])\n",
    "df_Test = pd.DataFrame(ls_Test,columns=[\"Text\"])"
   ]
  },
  {
   "cell_type": "code",
   "execution_count": null,
   "metadata": {},
   "outputs": [],
   "source": [
    "#df_Test[:10]"
   ]
  },
  {
   "cell_type": "code",
   "execution_count": 9,
   "metadata": {},
   "outputs": [],
   "source": [
    "word_sentence_list = ws(\n",
    "    ls_Test,\n",
    "     sentence_segmentation=True, # To consider delimiters\n",
    "     segment_delimiter_set = {\",\", \"。\", \":\", \"?\", \"!\", \";\"}) # This is the defualt set of delimiters\n",
    "    # recommend_dictionary = dictionary1, # words in this dictionary are encouraged\n",
    "    # coerce_dictionary = dictionary2, # words in this dictionary are forced"
   ]
  },
  {
   "cell_type": "code",
   "execution_count": 11,
   "metadata": {},
   "outputs": [],
   "source": [
    "word_sentence_list = ws(\n",
    "    ls_Test\n",
    "    # sentence_segmentation=True, # To consider delimiters\n",
    "    # segment_delimiter_set = {\",\", \"。\", \":\", \"?\", \"!\", \";\"}), # This is the defualt set of delimiters\n",
    "    # recommend_dictionary = dictionary1, # words in this dictionary are encouraged\n",
    "    # coerce_dictionary = dictionary2, # words in this dictionary are forced\n",
    ")"
   ]
  },
  {
   "cell_type": "code",
   "execution_count": 10,
   "metadata": {},
   "outputs": [
    {
     "data": {
      "text/plain": [
       "220982"
      ]
     },
     "execution_count": 10,
     "metadata": {},
     "output_type": "execute_result"
    }
   ],
   "source": [
    "del ws\n",
    "del WS\n",
    "gc.collect()"
   ]
  },
  {
   "cell_type": "code",
   "execution_count": 11,
   "metadata": {},
   "outputs": [],
   "source": [
    "pos_sentence_list = pos(word_sentence_list)"
   ]
  },
  {
   "cell_type": "code",
   "execution_count": 12,
   "metadata": {},
   "outputs": [
    {
     "data": {
      "text/plain": [
       "225672"
      ]
     },
     "execution_count": 12,
     "metadata": {},
     "output_type": "execute_result"
    }
   ],
   "source": [
    "del pos\n",
    "del POS\n",
    "gc.collect()"
   ]
  },
  {
   "cell_type": "code",
   "execution_count": 13,
   "metadata": {},
   "outputs": [],
   "source": [
    "entity_sentence_list = ner(word_sentence_list, pos_sentence_list)"
   ]
  },
  {
   "cell_type": "code",
   "execution_count": 14,
   "metadata": {},
   "outputs": [
    {
     "data": {
      "text/plain": [
       "225672"
      ]
     },
     "execution_count": 14,
     "metadata": {},
     "output_type": "execute_result"
    }
   ],
   "source": [
    "del NER\n",
    "del ner\n",
    "gc.collect()"
   ]
  },
  {
   "cell_type": "markdown",
   "metadata": {},
   "source": [
    "# 把做完斷詞和NER的list接到原始文字的DataFrame後並匯出CSV檔"
   ]
  },
  {
   "cell_type": "code",
   "execution_count": 18,
   "metadata": {},
   "outputs": [],
   "source": [
    "df_Test['WS'] = np.array(word_sentence_list)\n",
    "df_Test['POS'] = np.array(pos_sentence_list)\n",
    "df_Test['NER'] = np.array(entity_sentence_list)"
   ]
  },
  {
   "cell_type": "code",
   "execution_count": null,
   "metadata": {},
   "outputs": [],
   "source": [
    "#df_Test.sample(n=20).to_csv(\"df_test_out.csv\")"
   ]
  },
  {
   "cell_type": "code",
   "execution_count": 24,
   "metadata": {},
   "outputs": [],
   "source": [
    "df_Test.to_csv(\"df_test_out.csv\")"
   ]
  },
  {
   "cell_type": "markdown",
   "metadata": {},
   "source": [
    "# ==========================================\n",
    "# NER處理結束\n",
    "# =========================================="
   ]
  },
  {
   "cell_type": "markdown",
   "metadata": {},
   "source": [
    "# 直接列印接完的DataFrame內容"
   ]
  },
  {
   "cell_type": "code",
   "execution_count": 2,
   "metadata": {},
   "outputs": [],
   "source": [
    "def content_print(df_in,in_column_ls,inX):\n",
    "    \"\"\"\n",
    "      df_in:要列印內容的DataFrame\n",
    "      in_column_ls: DataFrame的要列印出來的column，型態為list\n",
    "      inX:要列印的index(即第X列)\n",
    "    \"\"\"\n",
    "    print(\"======================================================================================\")\n",
    "    for i in range(len(column_list)):\n",
    "        print(column_list[i],df_in[column_list[i]][inX])\n",
    "        print(\"======================================================================================\")"
   ]
  },
  {
   "cell_type": "code",
   "execution_count": 21,
   "metadata": {},
   "outputs": [],
   "source": [
    "#把column轉成list 型態\n",
    "#column_list = list(df_Test.columns)\n",
    "#column_list"
   ]
  },
  {
   "cell_type": "code",
   "execution_count": 22,
   "metadata": {},
   "outputs": [],
   "source": [
    "#content_print(df_Test,column_list,0)"
   ]
  },
  {
   "cell_type": "markdown",
   "metadata": {},
   "source": [
    "# 取出NER內容作詞典"
   ]
  },
  {
   "cell_type": "code",
   "execution_count": 1,
   "metadata": {},
   "outputs": [
    {
     "ename": "NameError",
     "evalue": "name 'entity_sentence_list' is not defined",
     "output_type": "error",
     "traceback": [
      "\u001b[1;31m---------------------------------------------------------------------------\u001b[0m",
      "\u001b[1;31mNameError\u001b[0m                                 Traceback (most recent call last)",
      "\u001b[1;32m<ipython-input-1-431c5a76337f>\u001b[0m in \u001b[0;36m<module>\u001b[1;34m\u001b[0m\n\u001b[1;32m----> 1\u001b[1;33m \u001b[0mlen\u001b[0m\u001b[1;33m(\u001b[0m\u001b[0mentity_sentence_list\u001b[0m\u001b[1;33m)\u001b[0m\u001b[1;33m,\u001b[0m\u001b[0mtype\u001b[0m\u001b[1;33m(\u001b[0m\u001b[0mentity_sentence_list\u001b[0m\u001b[1;33m[\u001b[0m\u001b[1;36m0\u001b[0m\u001b[1;33m]\u001b[0m\u001b[1;33m)\u001b[0m\u001b[1;33m,\u001b[0m\u001b[0mlen\u001b[0m\u001b[1;33m(\u001b[0m\u001b[0mtity_sentence_list\u001b[0m\u001b[1;33m[\u001b[0m\u001b[1;36m0\u001b[0m\u001b[1;33m]\u001b[0m\u001b[1;33m)\u001b[0m\u001b[1;33m\u001b[0m\u001b[1;33m\u001b[0m\u001b[0m\n\u001b[0m",
      "\u001b[1;31mNameError\u001b[0m: name 'entity_sentence_list' is not defined"
     ]
    }
   ],
   "source": [
    "len(entity_sentence_list),type(entity_sentence_list[0]),len(tity_sentence_list[0])"
   ]
  },
  {
   "cell_type": "code",
   "execution_count": 38,
   "metadata": {},
   "outputs": [
    {
     "data": {
      "text/plain": [
       "(50,\n",
       " 51,\n",
       " set,\n",
       " [(39, 42, 'GPE', '高雄市'),\n",
       "  (129, 131, 'DATE', '明年'),\n",
       "  (450, 452, 'GPE', '臺灣'),\n",
       "  (475, 482, 'ORG', '臺中國家歌劇院'),\n",
       "  (543, 546, 'FAC', '衛武營')],\n",
       " tuple,\n",
       " '高雄市')"
      ]
     },
     "execution_count": 38,
     "metadata": {},
     "output_type": "execute_result"
    }
   ],
   "source": [
    "ner_list = list(entity_sentence_list[0])\n",
    "len(entity_sentence_list),len(ner_list),type(entity_sentence_list[0]),ner_list[:5],type(ner_list[0]),ner_list[0][3]"
   ]
  },
  {
   "cell_type": "markdown",
   "metadata": {},
   "source": [
    "## entity_sentence_list 有N個set，N為輸入資料的筆數\n",
    "## 每個set表示該段文字的NER結果。\n",
    "## 因為set沒有順序性，不好處理，把set群轉成ner_list有N個set；\n",
    "## ner_list有M個tuple，每個代表一個字的NER。\n",
    "##"
   ]
  },
  {
   "cell_type": "code",
   "execution_count": null,
   "metadata": {},
   "outputs": [],
   "source": [
    "entity_sentence_list"
   ]
  },
  {
   "cell_type": "code",
   "execution_count": 161,
   "metadata": {},
   "outputs": [],
   "source": [
    "word_set = set()"
   ]
  },
  {
   "cell_type": "code",
   "execution_count": 130,
   "metadata": {},
   "outputs": [],
   "source": [
    "e = entity_sentence_list[0]"
   ]
  },
  {
   "cell_type": "code",
   "execution_count": 151,
   "metadata": {},
   "outputs": [
    {
     "data": {
      "text/plain": [
       "set"
      ]
     },
     "execution_count": 151,
     "metadata": {},
     "output_type": "execute_result"
    }
   ],
   "source": [
    "type(entity_sentence_list[0]).pop()"
   ]
  },
  {
   "cell_type": "code",
   "execution_count": 17,
   "metadata": {
    "collapsed": true,
    "jupyter": {
     "outputs_hidden": true
    }
   },
   "outputs": [
    {
     "data": {
      "text/plain": [
       "(set,\n",
       " {(1, 4, 'GPE', '台南市'),\n",
       "  (6, 8, 'DATE', '今年'),\n",
       "  (18, 22, 'ORG', '行政院長'),\n",
       "  (22, 25, 'PERSON', '張善政'),\n",
       "  (27, 31, 'ORG', '行政院會'),\n",
       "  (61, 71, 'ORG', '中央流行疫情指揮中心'),\n",
       "  (85, 91, 'DATE', '四月二十日前'),\n",
       "  (95, 109, 'DATE', '四月二十日至五月二 十日期間'),\n",
       "  (153, 155, 'DATE', '去年'),\n",
       "  (155, 157, 'ORG', '中央'),\n",
       "  (158, 163, 'ORG', '台南市政府'),\n",
       "  (179, 181, 'DATE', '今年'),\n",
       "  (181, 186, 'ORG', '台南市政府'),\n",
       "  (211, 213, 'DATE', '三月'),\n",
       "  (248, 251, 'GPE', '台南市'),\n",
       "  (251, 254, 'PERSON', '賴清德'),\n",
       "  (282, 284, 'DATE', '去年'),\n",
       "  (284, 287, 'ORG', '衛福部'),\n",
       "  (312, 315, 'ORG', '衛福部'),\n",
       "  (319, 321, 'DATE', '今年'),\n",
       "  (331, 333, 'ORG', '中央'),\n",
       "  (339, 349, 'ORG', '中央流行疫情指揮中心'),\n",
       "  (354, 357, 'GPE', '臺南市'),\n",
       "  (368, 370, 'PERSON', '張揆'),\n",
       "  (373, 376, 'ORG', '行政院'),\n",
       "  (383, 386, 'PERSON', '鐘嘉德'),\n",
       "  (395, 407, 'ORG', '國家蚊媒研究防治專責機構'),\n",
       "  (409, 411, 'DATE', '今年'),\n",
       "  (415, 418, 'MONEY', '兩億元'),\n",
       "  (442, 447, 'ORG', '高雄市政府')})"
      ]
     },
     "execution_count": 17,
     "metadata": {},
     "output_type": "execute_result"
    }
   ],
   "source": [
    "type(entity_sentence_list[2]),entity_sentence_list[2]"
   ]
  },
  {
   "cell_type": "code",
   "execution_count": 1,
   "metadata": {},
   "outputs": [
    {
     "ename": "IndentationError",
     "evalue": "expected an indented block (<ipython-input-1-f0a0794096d8>, line 6)",
     "output_type": "error",
     "traceback": [
      "\u001b[1;36m  File \u001b[1;32m\"<ipython-input-1-f0a0794096d8>\"\u001b[1;36m, line \u001b[1;32m6\u001b[0m\n\u001b[1;33m    each_set = word_set.add(entity_sentence_list[i].pop())\u001b[0m\n\u001b[1;37m           ^\u001b[0m\n\u001b[1;31mIndentationError\u001b[0m\u001b[1;31m:\u001b[0m expected an indented block\n"
     ]
    }
   ],
   "source": [
    "for i in range(len(entity_sentence_list)):\n",
    "    set_len = len(entity_sentence_list[i])\n",
    "    print(i,set_len)\n",
    "    for j in range(set_len):\n",
    "        \n",
    "    each_set = word_set.add(entity_sentence_list[i].pop())\n",
    "    "
   ]
  },
  {
   "cell_type": "code",
   "execution_count": 170,
   "metadata": {
    "collapsed": true,
    "jupyter": {
     "outputs_hidden": true
    }
   },
   "outputs": [
    {
     "name": "stdout",
     "output_type": "stream",
     "text": [
      "<class 'set'>\n"
     ]
    },
    {
     "data": {
      "text/plain": [
       "{(0, 2, 'GPE', '高雄'),\n",
       " (19, 21, 'PERSON', '陳菊'),\n",
       " (21, 23, 'DATE', '日前'),\n",
       " (24, 27, 'ORG', '市議會'),\n",
       " (40, 42, 'GPE', '高雄'),\n",
       " (108, 110, 'GPE', '高雄'),\n",
       " (127, 129, 'GPE', '高雄'),\n",
       " (132, 134, 'PERSON', '陳菊'),\n",
       " (144, 146, 'GPE', '高雄'),\n",
       " (148, 149, 'CARDINAL', '六'),\n",
       " (157, 162, 'DATE', '過去這幾年'),\n",
       " (164, 166, 'GPE', '高雄'),\n",
       " (216, 218, 'PERSON', '陳菊'),\n",
       " (221, 223, 'GPE', '高雄'),\n",
       " (244, 246, 'GPE', '高雄'),\n",
       " (268, 270, 'ORG', '中央'),\n",
       " (280, 282, 'GPE', '高雄'),\n",
       " (297, 299, 'PERSON', '陳菊'),\n",
       " (303, 307, 'DATE', '二○一六'),\n",
       " (311, 313, 'GPE', '高雄'),\n",
       " (349, 351, 'PERSON', '林全'),\n",
       " (354, 358, 'GPE', '高雄左營'),\n",
       " (366, 368, 'ORG', '國會'),\n",
       " (368, 371, 'ORG', '民進黨'),\n",
       " (383, 386, 'GPE', '高雄市'),\n",
       " (387, 391, 'ORG', '民進黨籍'),\n",
       " (394, 396, 'CARDINAL', '十一'),\n",
       " (417, 419, 'PERSON', '陳菊'),\n",
       " (422, 424, 'GPE', '高雄'),\n",
       " (461, 463, 'PERSON', '陳菊'),\n",
       " (486, 488, 'GPE', '高雄'),\n",
       " (498, 502, 'GPE', '高雄市長'),\n",
       " (514, 515, 'CARDINAL', '一'),\n",
       " (536, 539, 'DATE', '兩年多'),\n",
       " (553, 555, 'GPE', '高雄')}"
      ]
     },
     "execution_count": 170,
     "metadata": {},
     "output_type": "execute_result"
    }
   ],
   "source": [
    "print(type(entity_sentence_list[5]))\n",
    "entity_sentence_list[5]"
   ]
  },
  {
   "cell_type": "code",
   "execution_count": 149,
   "metadata": {
    "collapsed": true,
    "jupyter": {
     "outputs_hidden": true
    }
   },
   "outputs": [
    {
     "name": "stdout",
     "output_type": "stream",
     "text": [
      "<class 'set'>\n",
      "(632, 634, 'GPE', '台灣')\n",
      "<class 'set'>\n",
      "(173, 175, 'NORP', '日本')\n",
      "<class 'set'>\n",
      "(247, 253, 'FAC', '打鼓岩元亨寺')\n",
      "<class 'set'>\n",
      "(13, 15, 'GPE', '高雄')\n",
      "<class 'set'>\n",
      "(292, 298, 'PERCENT', '百分之七點五')\n",
      "<class 'set'>\n",
      "(438, 440, 'PERSON', '陳菊')\n",
      "<class 'set'>\n",
      "(392, 394, 'PERSON', '陳菊')\n",
      "<class 'set'>\n",
      "(165, 166, 'CARDINAL', '兩')\n",
      "<class 'set'>\n",
      "(302, 307, 'ORG', '明華園總團')\n",
      "<class 'set'>\n",
      "(201, 205, 'ORG', '陽明大學')\n",
      "<class 'set'>\n",
      "(179, 182, 'GPE', '高雄市')\n",
      "<class 'set'>\n",
      "(1050, 1053, 'PERSON', '蔡英文')\n",
      "<class 'set'>\n",
      "(445, 448, 'PERSON', '黃石龍')\n",
      "<class 'set'>\n",
      "(359, 362, 'PERSON', '高閔琳')\n",
      "<class 'set'>\n",
      "(434, 437, 'PERSON', '甲仙天')\n",
      "<class 'set'>\n",
      "(525, 528, 'PERSON', '陶笛家')\n",
      "<class 'set'>\n",
      "(235, 238, 'GPE', '高雄市')\n",
      "<class 'set'>\n",
      "(235, 237, 'DATE', '一天')\n",
      "<class 'set'>\n",
      "(23, 26, 'PERSON', '陳政聞')\n",
      "<class 'set'>\n",
      "(411, 413, 'GPE', '苓雅')\n",
      "<class 'set'>\n",
      "(887, 890, 'LOC', '成功路')\n",
      "<class 'set'>\n",
      "(359, 362, 'LOC', '西子灣')\n",
      "<class 'set'>\n",
      "(299, 301, 'DATE', '元旦')\n",
      "<class 'set'>\n",
      "(492, 495, 'PERSON', '陳玫娟')\n",
      "<class 'set'>\n",
      "(176, 182, 'DATE', '二月二十三日')\n",
      "<class 'set'>\n",
      "(41, 44, 'ORG', '經發局')\n",
      "<class 'set'>\n",
      "(82, 88, 'DATE', '民國四十五年')\n",
      "<class 'set'>\n",
      "(301, 304, 'ORG', '水利局')\n",
      "<class 'set'>\n",
      "(455, 458, 'PERSON', '林瑩蓉')\n",
      "<class 'set'>\n",
      "(245, 248, 'ORG', '準閣揆')\n",
      "<class 'set'>\n",
      "(313, 317, 'QUANTITY', '四 公里')\n",
      "<class 'set'>\n",
      "(389, 394, 'MONEY', '八十六億元')\n",
      "<class 'set'>\n",
      "(435, 437, 'GPE', '台灣')\n",
      "<class 'set'>\n",
      "(88, 91, 'PERCENT', '八成八')\n",
      "<class 'set'>\n",
      "(492, 494, 'PERSON', '陳菊')\n",
      "<class 'set'>\n",
      "(394, 396, 'ORG', '聯想')\n",
      "<class 'set'>\n",
      "(162, 169, 'MONEY', '四 百九十億元')\n",
      "<class 'set'>\n",
      "(612, 615, 'ORG', '經發局')\n",
      "<class 'set'>\n",
      "(401, 406, 'PERCENT', '百分之五十')\n",
      "<class 'set'>\n",
      "(433, 442, 'ORG', '台北市政府 民政局')\n",
      "<class 'set'>\n",
      "(22, 33, 'ORG', '高雄市夢想城市發展協會')\n",
      "<class 'set'>\n",
      "(1043, 1049, 'ORG', '高雄市研考會')\n",
      "<class 'set'>\n",
      "(292, 295, 'GPE', '新北市')\n",
      "<class 'set'>\n",
      "(340, 342, 'GPE', '台南')\n",
      "<class 'set'>\n",
      "(682, 685, 'FAC', '西營區')\n",
      "<class 'set'>\n",
      "(270, 279, 'ORG', '動保處合約動物醫院')\n",
      "<class 'set'>\n",
      "(542, 545, 'FAC', '中安路')\n",
      "<class 'set'>\n",
      "(132, 134, 'ORG', '中央')\n",
      "<class 'set'>\n",
      "(196, 200, 'FAC', '九如陸橋')\n",
      "<class 'set'>\n",
      "(141, 143, 'GPE', '民雄')\n",
      "<class 'set'>\n",
      "(297, 301, 'ORG', '工務局長')\n",
      "<class 'set'>\n",
      "(267, 270, 'GPE', '高雄市')\n",
      "<class 'set'>\n",
      "(136, 139, 'PERSON', '賴文德')\n",
      "<class 'set'>\n",
      "(64, 66, 'GPE', '全國')\n",
      "<class 'set'>\n",
      "(749, 750, 'CARDINAL', '二')\n",
      "<class 'set'>\n",
      "(467, 469, 'GPE', '台中')\n",
      "<class 'set'>\n",
      "(553, 556, 'MONEY', '十萬元')\n",
      "<class 'set'>\n",
      "(577, 578, 'PERSON', '馬')\n",
      "<class 'set'>\n",
      "(25, 27, 'DATE', '昨天')\n",
      "<class 'set'>\n",
      "(131, 139, 'ORG', '淺野水泥株式會社')\n",
      "<class 'set'>\n",
      "(583, 588, 'ORG', '高雄市政府')\n",
      "<class 'set'>\n",
      "(326, 329, 'TIME', '八分鐘')\n",
      "<class 'set'>\n",
      "(68, 76, 'ORG', '高雄市牙醫師公會')\n",
      "<class 'set'>\n",
      "(164, 166, 'GPE', '高雄')\n",
      "<class 'set'>\n",
      "(4, 7, 'PERSON', '陳美雅')\n",
      "<class 'set'>\n",
      "(476, 483, 'CARDINAL', '四千五百三十七')\n",
      "<class 'set'>\n",
      "(388, 390, 'ORG', '黨團')\n",
      "<class 'set'>\n",
      "(424, 427, 'ORG', '教育局')\n",
      "<class 'set'>\n",
      "(391, 393, 'GPE', '高雄')\n",
      "<class 'set'>\n",
      "(51, 55, 'LAW', '中央修法')\n",
      "<class 'set'>\n",
      "(500, 503, 'ORG', '水利局')\n",
      "<class 'set'>\n",
      "(11, 14, 'GPE', '高雄市')\n",
      "<class 'set'>\n",
      "(346, 349, 'MONEY', '兩百元')\n",
      "<class 'set'>\n",
      "(19, 21, 'GPE', '港都')\n",
      "<class 'set'>\n",
      "(115, 117, 'PERSON', '陳菊')\n",
      "<class 'set'>\n",
      "(838, 840, 'ORDINAL', '第一')\n",
      "<class 'set'>\n",
      "(253, 255, 'CARDINAL', '三千')\n",
      "<class 'set'>\n",
      "(291, 294, 'DATE', '今年度')\n",
      "<class 'set'>\n",
      "(342, 352, 'ORG', '國立高雄應用科技大學')\n",
      "<class 'set'>\n",
      "(504, 508, 'DATE', '一0四年')\n",
      "<class 'set'>\n",
      "(238, 241, 'ORG', '民進黨')\n",
      "<class 'set'>\n",
      "(141, 143, 'GPE', '高雄')\n",
      "<class 'set'>\n",
      "(28, 31, 'PERSON', '吳秉叡')\n",
      "<class 'set'>\n",
      "(149, 151, 'CARDINAL', '七成')\n",
      "<class 'set'>\n",
      "(217, 218, 'PERSON', '扁')\n",
      "<class 'set'>\n",
      "(20, 22, 'GPE', '台南')\n",
      "<class 'set'>\n",
      "(348, 352, 'DATE', '九十一年')\n",
      "<class 'set'>\n",
      "(602, 604, 'WORK_OF_ART', '金牌')\n",
      "<class 'set'>\n",
      "(170, 172, 'ORG', '教部')\n",
      "<class 'set'>\n",
      "(457, 459, 'DATE', '今天')\n",
      "<class 'set'>\n",
      "(960, 962, 'PERSON', '阿扁')\n",
      "<class 'set'>\n",
      "(415, 417, 'PERSON', '川普')\n",
      "<class 'set'>\n",
      "(601, 602, 'PERSON', '扁')\n",
      "<class 'set'>\n",
      "(196, 199, 'ORG', '市議會')\n",
      "<class 'set'>\n",
      "(281, 283, 'GPE', '台灣')\n",
      "<class 'set'>\n",
      "(605, 608, 'PERSON', '馬英九')\n",
      "<class 'set'>\n",
      "(27, 30, 'ORG', '總統府')\n",
      "<class 'set'>\n",
      "(213, 215, 'PERSON', '探扁')\n",
      "<class 'set'>\n",
      "(366, 367, 'PERSON', '陳')\n",
      "<class 'set'>\n",
      "(54, 56, 'PERSON', '陳菊')\n",
      "<class 'set'>\n",
      "(231, 234, 'PERSON', '陳水扁')\n",
      "<class 'set'>\n",
      "(45, 47, 'ORG', '達法')\n",
      "<class 'set'>\n",
      "(108, 110, 'PERSON', '陳菊')\n",
      "<class 'set'>\n",
      "(127, 129, 'CARDINAL', '二階')\n",
      "<class 'set'>\n",
      "(108, 111, 'PERSON', '許立明')\n",
      "<class 'set'>\n",
      "(71, 76, 'ORG', '高雄市政府')\n",
      "<class 'set'>\n",
      "(308, 311, 'PERSON', '張志清')\n",
      "<class 'set'>\n",
      "(36, 39, 'GPE', '松本市')\n",
      "<class 'set'>\n",
      "(124, 127, 'GPE', '高雄市')\n",
      "<class 'set'>\n",
      "(589, 592, 'PERSON', '陳粹鑾')\n",
      "<class 'set'>\n",
      "(325, 328, 'PERSON', '徐榮彬')\n",
      "<class 'set'>\n",
      "(418, 421, 'PERSON', '黃志中')\n",
      "<class 'set'>\n",
      "(55, 58, 'ORG', '高市府')\n",
      "<class 'set'>\n",
      "(211, 214, 'GPE', '高雄市')\n",
      "<class 'set'>\n",
      "(77, 79, 'DATE', '今年')\n",
      "<class 'set'>\n",
      "(6, 9, 'PERSON', '簡煥宗')\n",
      "<class 'set'>\n",
      "(303, 306, 'PERSON', '林意翔')\n",
      "<class 'set'>\n",
      "(378, 382, 'GPE', '高雄鳳邑')\n",
      "<class 'set'>\n",
      "(135, 150, 'EVENT', '高雄國際海事船舶展暨國防工業展')\n",
      "<class 'set'>\n",
      "(317, 323, 'DATE', '三月二十九日')\n",
      "<class 'set'>\n",
      "(162, 165, 'ORG', '國防部')\n",
      "<class 'set'>\n",
      "(375, 380, 'DATE', '今年清明節')\n",
      "<class 'set'>\n",
      "(72, 75, 'LANGUAGE', '海陸腔')\n",
      "<class 'set'>\n",
      "(833, 839, 'NORP', 'Maigua')\n",
      "<class 'set'>\n",
      "(56, 58, 'GPE', '日本')\n",
      "<class 'set'>\n",
      "(207, 210, 'GPE', '高雄區')\n",
      "<class 'set'>\n",
      "(560, 563, 'GPE', '高雄市')\n",
      "<class 'set'>\n",
      "(174, 180, 'ORG', '高市府觀光局')\n",
      "<class 'set'>\n",
      "(267, 270, 'GPE', '高雄市')\n",
      "<class 'set'>\n",
      "(384, 392, 'EVENT', '小澤征 爾音樂祭')\n",
      "<class 'set'>\n",
      "(20, 22, 'GPE', '台南')\n",
      "<class 'set'>\n",
      "(224, 230, 'ORG', '經濟部水利署')\n",
      "<class 'set'>\n",
      "(165, 168, 'GPE', '左營區')\n",
      "<class 'set'>\n",
      "(21, 24, 'ORG', '內政部')\n",
      "<class 'set'>\n",
      "(167, 170, 'GPE', '高雄市')\n",
      "<class 'set'>\n",
      "(421, 423, 'ORDINAL', '第一')\n",
      "<class 'set'>\n",
      "(24, 25, 'CARDINAL', '五')\n",
      "<class 'set'>\n",
      "(266, 269, 'GPE', '長野縣')\n",
      "<class 'set'>\n",
      "(1137, 1138, 'GPE', '台')\n",
      "<class 'set'>\n",
      "(78, 81, 'GPE', '高雄市')\n",
      "<class 'set'>\n",
      "(0, 5, 'ORG', '\\u3000統一集團')\n",
      "<class 'set'>\n",
      "(157, 160, 'GPE', '高雄市')\n",
      "<class 'set'>\n",
      "(217, 219, 'DATE', '今年')\n",
      "<class 'set'>\n",
      "(333, 340, 'DATE', '去年四月十四日')\n",
      "<class 'set'>\n",
      "(160, 163, 'PERSON', '黃啟川')\n",
      "<class 'set'>\n",
      "(652, 655, 'PERSON', '許立明')\n",
      "<class 'set'>\n",
      "(60, 62, 'ORDINAL', '第二')\n",
      "<class 'set'>\n",
      "(31, 37, 'LOC', '仁武區仁雄路')\n",
      "<class 'set'>\n",
      "(4, 8, 'ORDINAL', '第八十期')\n"
     ]
    }
   ],
   "source": [
    "for i in range(len(entity_sentence_list)):\n",
    "    print(type(entity_sentence_list[i]))\n",
    "    print(entity_sentence_list[i].pop())"
   ]
  },
  {
   "cell_type": "code",
   "execution_count": 132,
   "metadata": {},
   "outputs": [],
   "source": [
    "a = e.pop()"
   ]
  },
  {
   "cell_type": "code",
   "execution_count": null,
   "metadata": {},
   "outputs": [],
   "source": []
  },
  {
   "cell_type": "code",
   "execution_count": 138,
   "metadata": {},
   "outputs": [
    {
     "data": {
      "text/plain": [
       "149"
      ]
     },
     "execution_count": 138,
     "metadata": {},
     "output_type": "execute_result"
    }
   ],
   "source": [
    "len(entity_sentence_list)"
   ]
  }
 ],
 "metadata": {
  "kernelspec": {
   "display_name": "Python 3",
   "language": "python",
   "name": "python3"
  },
  "language_info": {
   "codemirror_mode": {
    "name": "ipython",
    "version": 3
   },
   "file_extension": ".py",
   "mimetype": "text/x-python",
   "name": "python",
   "nbconvert_exporter": "python",
   "pygments_lexer": "ipython3",
   "version": "3.7.3"
  }
 },
 "nbformat": 4,
 "nbformat_minor": 4
}
