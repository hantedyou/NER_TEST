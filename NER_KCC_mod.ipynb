{
 "cells": [
  {
   "cell_type": "code",
   "execution_count": null,
   "metadata": {},
   "outputs": [],
   "source": [
    "from ckiptagger import data_utils, construct_dictionary"
   ]
  },
  {
   "cell_type": "code",
   "execution_count": 2,
   "metadata": {},
   "outputs": [
    {
     "name": "stderr",
     "output_type": "stream",
     "text": [
      "Using TensorFlow backend.\n"
     ]
    }
   ],
   "source": [
    "import tensorflow as tf\n",
    "import keras\n",
    "\n",
    "import pandas as pd\n",
    "import numpy as np\n",
    "import matplotlib.pyplot as plt\n",
    "import gc\n"
   ]
  },
  {
   "cell_type": "code",
   "execution_count": 138,
   "metadata": {},
   "outputs": [],
   "source": [
    "def word_proc(data_path,column_name,\n",
    "              tt_begin = 0,tt_end = 50,\n",
    "              output_name=\"df_test_out.csv\"):\n",
    "    \"\"\"\n",
    "        data_path(str):資料路徑(字串)，輸入的資料應為CSV檔，ex:\n",
    "        column_name(str):要處理的欄位名稱\n",
    "        tt_begin(int):起始列(整數)\n",
    "        tt_end(int):結束列(整數)\n",
    "        output_CSV_name:輸出的檔案名稱，指定為CSV檔    \n",
    "    \"\"\"\n",
    "    from ckiptagger import WS, POS, NER\n",
    "    \n",
    "    file_type = data_path[-4:]\n",
    "    print(\"輸入檔案格式為 {}\".format(file_type))\n",
    "    if 'csv' in file_type:\n",
    "        data = pd.read_csv(data_path)\n",
    "    elif 'xls' in file_type:\n",
    "        data = pd.read_excel(data_path)\n",
    "    else:\n",
    "        #print(\"檔案須為CSV或XLS/XLSX\")\n",
    "        raise Exception(\"檔案須為CSV或XLS/XLSX\")\n",
    "        #return None\n",
    "    \n",
    "    \n",
    "    text = data[column_name]\n",
    "\n",
    "    ls_Test = list(text[(tt_begin-1):tt_end])\n",
    "    print(\"Got list\\n 載入 WS 資料...\")\n",
    "    \n",
    "    ws = WS(\"./data\")\n",
    "    print(\"============================\\n 開始執行 WS\\n============================\\n\")\n",
    "    word_sentence_list = ws(ls_Test\n",
    "                                # sentence_segmentation=True, # To consider delimiters\n",
    "                                # segment_delimiter_set = {\",\", \"。\", \":\", \"?\", \"!\", \";\"}),\n",
    "                                # This is the defualt set of delimiters\n",
    "                                # recommend_dictionary = dictionary1, # words in this dictionary are encouraged\n",
    "                                # coerce_dictionary = dictionary2, # words in this dictionary are forced\n",
    "                            )\n",
    "    del ws\n",
    "    del WS\n",
    "    gc.collect()\n",
    "    print(\"============================\\n WS 完成\\n============================\\n載入 POS 資料...\")\n",
    "    \n",
    "    print(\"============================\\n 開始執行 POS \\n============================\\n\")\n",
    "    pos = POS(\"./data\")\n",
    "    pos_sentence_list = pos(word_sentence_list)\n",
    "    del pos\n",
    "    del POS\n",
    "    gc.collect()\n",
    "    print(\"============================\\n POS 完成\\n============================\\n載入NER 資料...\")\n",
    "    \n",
    "    \n",
    "    print(\"============================\\n 開始執行 NER \\n============================\\n\")\n",
    "    ner = NER(\"./data\")\n",
    "    entity_sentence_list = ner(word_sentence_list, pos_sentence_list)\n",
    "    del NER\n",
    "    del ner\n",
    "    gc.collect()\n",
    "    print(\"============================\\n NER 完成\\n============================\\n\")\n",
    "        \n",
    "    df_Test = pd.DataFrame(ls_Test,columns=[\"Text\"])\n",
    "    df_Test['WS'] = np.array(word_sentence_list)\n",
    "    df_Test['POS'] = np.array(pos_sentence_list)\n",
    "    df_Test['NER'] = np.array(entity_sentence_list)\n",
    "    print(\"============================\\n Dataframe Created \\n============================\\n\")\n",
    "        \n",
    "    df_Test.to_csv(output_name)\n",
    "    return df_Test,word_sentence_list,pos_sentence_list,entity_sentence_list"
   ]
  },
  {
   "cell_type": "code",
   "execution_count": 139,
   "metadata": {},
   "outputs": [],
   "source": [
    "data_path_a = \"KCC_Data/KCCNews11554.csv\"\n",
    "data_path_c = 'KCC_Data/20160419-20190804-自由(985筆).xlsx'\n",
    "column_name_a = \"Text\"\n",
    "column_name_c = \"內容\"\n",
    "output_name_a = \"mod_test.csv\""
   ]
  },
  {
   "cell_type": "code",
   "execution_count": 140,
   "metadata": {},
   "outputs": [
    {
     "name": "stdout",
     "output_type": "stream",
     "text": [
      "輸入檔案格式為 xlsx\n",
      "Got list\n",
      " 載入 WS 資料...\n",
      "============================\n",
      " 開始執行 WS\n",
      "============================\n",
      "\n",
      "============================\n",
      " WS 完成\n",
      "============================\n",
      "載入 POS 資料...\n",
      "============================\n",
      " 開始執行 POS \n",
      "============================\n",
      "\n",
      "============================\n",
      " POS 完成\n",
      "============================\n",
      "載入NER 資料...\n",
      "============================\n",
      " 開始執行 NER \n",
      "============================\n",
      "\n",
      "============================\n",
      " NER 完成\n",
      "============================\n",
      "\n",
      "============================\n",
      " Dataframe Created \n",
      "============================\n",
      "\n"
     ]
    }
   ],
   "source": [
    "demo_df,ws_list,pos_list,ner_list = word_proc(data_path = data_path_c,\n",
    "          column_name = column_name_c,\n",
    "          tt_begin = 1,tt_end = 10,\n",
    "          output_name=output_name_a)"
   ]
  },
  {
   "cell_type": "code",
   "execution_count": 142,
   "metadata": {},
   "outputs": [
    {
     "data": {
      "text/plain": [
       "(10, set, 75)"
      ]
     },
     "execution_count": 142,
     "metadata": {},
     "output_type": "execute_result"
    }
   ],
   "source": [
    "len(ner_list),type(ner_list[0]),len(ner_list[9])"
   ]
  },
  {
   "cell_type": "code",
   "execution_count": 78,
   "metadata": {},
   "outputs": [],
   "source": [
    "#type(ner_list),len(ner_list),ner_list[:2]"
   ]
  },
  {
   "cell_type": "code",
   "execution_count": 119,
   "metadata": {},
   "outputs": [],
   "source": [
    "#type(ner_list[0]),len(ner_list[0]),len(ner_list[1]),ner_list[0]"
   ]
  },
  {
   "cell_type": "code",
   "execution_count": 120,
   "metadata": {},
   "outputs": [],
   "source": [
    "#ner_list[0]"
   ]
  },
  {
   "cell_type": "code",
   "execution_count": null,
   "metadata": {},
   "outputs": [],
   "source": []
  },
  {
   "cell_type": "code",
   "execution_count": 24,
   "metadata": {},
   "outputs": [],
   "source": [
    "#new_list = ner_list[0:10].copy()"
   ]
  },
  {
   "cell_type": "code",
   "execution_count": 25,
   "metadata": {},
   "outputs": [],
   "source": [
    "#del class_list\n",
    "#del ner_list\n"
   ]
  },
  {
   "cell_type": "markdown",
   "metadata": {},
   "source": [
    "# 1.取出NER類別及專有名詞，分別存到df_class_list 及df_ner_list中\n",
    "# 2.將其組成DataFrame['cl','NER']；欄位'cl' 為專有名詞類別、欄位'NER'為專有名詞"
   ]
  },
  {
   "cell_type": "code",
   "execution_count": 143,
   "metadata": {},
   "outputs": [
    {
     "name": "stdout",
     "output_type": "stream",
     "text": [
      "364\n"
     ]
    }
   ],
   "source": [
    "df_class_list = list()\n",
    "df_ner_list = list()\n",
    "\n",
    "count = 0\n",
    "for i in range(len(ner_list)):\n",
    "    for j in range(len(ner_list[i])):\n",
    "        count = count +1\n",
    "        a = ner_list[i].pop()\n",
    "        df_class_list.append(a[2])\n",
    "        df_ner_list.append(a[3])\n",
    "        #print(type(new_list[j]),(new_list[j]))\n",
    "print(count)"
   ]
  },
  {
   "cell_type": "code",
   "execution_count": 144,
   "metadata": {},
   "outputs": [],
   "source": [
    "extract_df = pd.DataFrame(\n",
    "{'cl':df_class_list,\n",
    " 'NER':df_ner_list\n",
    "})"
   ]
  },
  {
   "cell_type": "code",
   "execution_count": 145,
   "metadata": {},
   "outputs": [
    {
     "name": "stdout",
     "output_type": "stream",
     "text": [
      "            cl  NER\n",
      "count      364  364\n",
      "unique      12  172\n",
      "top     PERSON  韓國瑜\n",
      "freq       107   16\n"
     ]
    },
    {
     "data": {
      "text/html": [
       "<div>\n",
       "<style scoped>\n",
       "    .dataframe tbody tr th:only-of-type {\n",
       "        vertical-align: middle;\n",
       "    }\n",
       "\n",
       "    .dataframe tbody tr th {\n",
       "        vertical-align: top;\n",
       "    }\n",
       "\n",
       "    .dataframe thead th {\n",
       "        text-align: right;\n",
       "    }\n",
       "</style>\n",
       "<table border=\"1\" class=\"dataframe\">\n",
       "  <thead>\n",
       "    <tr style=\"text-align: right;\">\n",
       "      <th></th>\n",
       "      <th>NER</th>\n",
       "    </tr>\n",
       "    <tr>\n",
       "      <th>cl</th>\n",
       "      <th></th>\n",
       "    </tr>\n",
       "  </thead>\n",
       "  <tbody>\n",
       "    <tr>\n",
       "      <th>CARDINAL</th>\n",
       "      <td>37</td>\n",
       "    </tr>\n",
       "    <tr>\n",
       "      <th>DATE</th>\n",
       "      <td>62</td>\n",
       "    </tr>\n",
       "    <tr>\n",
       "      <th>FAC</th>\n",
       "      <td>7</td>\n",
       "    </tr>\n",
       "    <tr>\n",
       "      <th>GPE</th>\n",
       "      <td>55</td>\n",
       "    </tr>\n",
       "    <tr>\n",
       "      <th>LANGUAGE</th>\n",
       "      <td>1</td>\n",
       "    </tr>\n",
       "    <tr>\n",
       "      <th>LOC</th>\n",
       "      <td>5</td>\n",
       "    </tr>\n",
       "    <tr>\n",
       "      <th>MONEY</th>\n",
       "      <td>12</td>\n",
       "    </tr>\n",
       "    <tr>\n",
       "      <th>NORP</th>\n",
       "      <td>3</td>\n",
       "    </tr>\n",
       "    <tr>\n",
       "      <th>ORDINAL</th>\n",
       "      <td>4</td>\n",
       "    </tr>\n",
       "    <tr>\n",
       "      <th>ORG</th>\n",
       "      <td>66</td>\n",
       "    </tr>\n",
       "    <tr>\n",
       "      <th>PERSON</th>\n",
       "      <td>107</td>\n",
       "    </tr>\n",
       "    <tr>\n",
       "      <th>TIME</th>\n",
       "      <td>5</td>\n",
       "    </tr>\n",
       "  </tbody>\n",
       "</table>\n",
       "</div>"
      ],
      "text/plain": [
       "          NER\n",
       "cl           \n",
       "CARDINAL   37\n",
       "DATE       62\n",
       "FAC         7\n",
       "GPE        55\n",
       "LANGUAGE    1\n",
       "LOC         5\n",
       "MONEY      12\n",
       "NORP        3\n",
       "ORDINAL     4\n",
       "ORG        66\n",
       "PERSON    107\n",
       "TIME        5"
      ]
     },
     "execution_count": 145,
     "metadata": {},
     "output_type": "execute_result"
    }
   ],
   "source": [
    "print(extract_df.describe())\n",
    "extract_df.groupby('cl').count()"
   ]
  },
  {
   "cell_type": "code",
   "execution_count": 69,
   "metadata": {},
   "outputs": [],
   "source": [
    "#測試用\n",
    "#copy_df = test_df.copy()"
   ]
  },
  {
   "cell_type": "code",
   "execution_count": 43,
   "metadata": {},
   "outputs": [
    {
     "data": {
      "text/plain": [
       "(1139,\n",
       " array(['LOC', 'DATE', 'FAC', 'GPE', 'PERCENT', 'PERSON', 'ORG', 'ORDINAL',\n",
       "        'MONEY', 'TIME', 'NORP', 'CARDINAL', 'LANGUAGE', 'LAW', 'EVENT',\n",
       "        'QUANTITY'], dtype=object))"
      ]
     },
     "execution_count": 43,
     "metadata": {},
     "output_type": "execute_result"
    }
   ],
   "source": [
    "#len(copy_df),copy_df['cl'].unique()"
   ]
  },
  {
   "cell_type": "code",
   "execution_count": 71,
   "metadata": {},
   "outputs": [],
   "source": [
    "#test_df"
   ]
  },
  {
   "cell_type": "code",
   "execution_count": 146,
   "metadata": {},
   "outputs": [
    {
     "data": {
      "text/plain": [
       "(364, 177)"
      ]
     },
     "execution_count": 146,
     "metadata": {},
     "output_type": "execute_result"
    }
   ],
   "source": [
    "dd_extract_df = extract_df.drop_duplicates()\n",
    "len(extract_df),len(dd_extract_df)"
   ]
  },
  {
   "cell_type": "code",
   "execution_count": 147,
   "metadata": {},
   "outputs": [
    {
     "data": {
      "text/plain": [
       "array(['GPE', 'ORG', 'DATE', 'TIME', 'CARDINAL', 'PERSON', 'MONEY', 'FAC',\n",
       "       'NORP', 'LOC', 'LANGUAGE', 'ORDINAL'], dtype=object)"
      ]
     },
     "execution_count": 147,
     "metadata": {},
     "output_type": "execute_result"
    }
   ],
   "source": [
    "dd_extract_df['cl'].unique()"
   ]
  },
  {
   "cell_type": "code",
   "execution_count": 148,
   "metadata": {},
   "outputs": [
    {
     "data": {
      "text/plain": [
       "101"
      ]
     },
     "execution_count": 148,
     "metadata": {},
     "output_type": "execute_result"
    }
   ],
   "source": [
    "df_exp = dd_extract_df.loc[dd_extract_df['cl'].isin(['LOC','PERSON', 'ORG', 'LAW', 'EVENT','GPE'])]\n",
    "len(df_exp)\n",
    "#https://stackoverflow.com/questions/17071871/how-to-select-rows-from-a-dataframe-based-on-column-values"
   ]
  },
  {
   "cell_type": "code",
   "execution_count": 149,
   "metadata": {},
   "outputs": [
    {
     "data": {
      "text/plain": [
       "96"
      ]
     },
     "execution_count": 149,
     "metadata": {},
     "output_type": "execute_result"
    }
   ],
   "source": [
    "df_exp_2 = df_exp[df_exp['NER'].map(len) >= 2].copy()\n",
    "len(df_exp_2)"
   ]
  },
  {
   "cell_type": "code",
   "execution_count": 150,
   "metadata": {},
   "outputs": [
    {
     "data": {
      "text/html": [
       "<div>\n",
       "<style scoped>\n",
       "    .dataframe tbody tr th:only-of-type {\n",
       "        vertical-align: middle;\n",
       "    }\n",
       "\n",
       "    .dataframe tbody tr th {\n",
       "        vertical-align: top;\n",
       "    }\n",
       "\n",
       "    .dataframe thead th {\n",
       "        text-align: right;\n",
       "    }\n",
       "</style>\n",
       "<table border=\"1\" class=\"dataframe\">\n",
       "  <thead>\n",
       "    <tr style=\"text-align: right;\">\n",
       "      <th></th>\n",
       "      <th>cl</th>\n",
       "      <th>NER</th>\n",
       "    </tr>\n",
       "  </thead>\n",
       "  <tbody>\n",
       "    <tr>\n",
       "      <th>0</th>\n",
       "      <td>GPE</td>\n",
       "      <td>高市路竹區頂寮里</td>\n",
       "    </tr>\n",
       "    <tr>\n",
       "      <th>22</th>\n",
       "      <td>GPE</td>\n",
       "      <td>高雄</td>\n",
       "    </tr>\n",
       "    <tr>\n",
       "      <th>1</th>\n",
       "      <td>ORG</td>\n",
       "      <td>水利局</td>\n",
       "    </tr>\n",
       "    <tr>\n",
       "      <th>5</th>\n",
       "      <td>ORG</td>\n",
       "      <td>民進黨</td>\n",
       "    </tr>\n",
       "    <tr>\n",
       "      <th>10</th>\n",
       "      <td>PERSON</td>\n",
       "      <td>邱志偉</td>\n",
       "    </tr>\n",
       "  </tbody>\n",
       "</table>\n",
       "</div>"
      ],
      "text/plain": [
       "        cl       NER\n",
       "0      GPE  高市路竹區頂寮里\n",
       "22     GPE        高雄\n",
       "1      ORG       水利局\n",
       "5      ORG       民進黨\n",
       "10  PERSON       邱志偉"
      ]
     },
     "execution_count": 150,
     "metadata": {},
     "output_type": "execute_result"
    }
   ],
   "source": [
    "df_exp_2[:5].sort_values(by=['cl'])"
   ]
  },
  {
   "cell_type": "code",
   "execution_count": 151,
   "metadata": {},
   "outputs": [],
   "source": [
    "df_exp_2.to_csv('NERrlt_20160419-20190804-自由(985筆)_1_9.csv')"
   ]
  },
  {
   "cell_type": "code",
   "execution_count": 103,
   "metadata": {},
   "outputs": [
    {
     "name": "stdout",
     "output_type": "stream",
     "text": [
      "(38, 40, 'PERSON', '阿扁')\n",
      "PERSON\n",
      "阿扁\n"
     ]
    },
    {
     "data": {
      "text/plain": [
       "(['GPE',\n",
       "  'ORG',\n",
       "  'PERSON',\n",
       "  'PERSON',\n",
       "  'ORG',\n",
       "  'PERSON',\n",
       "  'CARDINAL',\n",
       "  'ORG',\n",
       "  'PERSON'],\n",
       " ['高雄', '親民黨', '馬英九', '陳水扁', '民進黨團', '馬', '一', '親民黨', '阿扁'])"
      ]
     },
     "execution_count": 103,
     "metadata": {},
     "output_type": "execute_result"
    }
   ],
   "source": [
    "#print(new_list[0])\n",
    "s = new_list[0]\n",
    "a = s.pop()\n",
    "print(a)\n",
    "print(a[2])\n",
    "print(a[3])\n",
    "class_list.append(a[2])\n",
    "ner_list.append(a[3])\n",
    "new_list[0]\n",
    "class_list,ner_list"
   ]
  },
  {
   "cell_type": "code",
   "execution_count": 96,
   "metadata": {},
   "outputs": [
    {
     "data": {
      "text/plain": [
       "<set_iterator at 0x21c91989318>"
      ]
     },
     "execution_count": 96,
     "metadata": {},
     "output_type": "execute_result"
    }
   ],
   "source": [
    "e = iter(s)\n",
    "e"
   ]
  },
  {
   "cell_type": "code",
   "execution_count": 20,
   "metadata": {},
   "outputs": [
    {
     "data": {
      "text/plain": [
       "'親民黨'"
      ]
     },
     "execution_count": 20,
     "metadata": {},
     "output_type": "execute_result"
    }
   ],
   "source": [
    "a[3]"
   ]
  },
  {
   "cell_type": "code",
   "execution_count": 25,
   "metadata": {},
   "outputs": [],
   "source": [
    "df_NER = pd.DataFrame(columns=['Class', 'NER'])"
   ]
  },
  {
   "cell_type": "code",
   "execution_count": 26,
   "metadata": {},
   "outputs": [
    {
     "data": {
      "text/html": [
       "<div>\n",
       "<style scoped>\n",
       "    .dataframe tbody tr th:only-of-type {\n",
       "        vertical-align: middle;\n",
       "    }\n",
       "\n",
       "    .dataframe tbody tr th {\n",
       "        vertical-align: top;\n",
       "    }\n",
       "\n",
       "    .dataframe thead th {\n",
       "        text-align: right;\n",
       "    }\n",
       "</style>\n",
       "<table border=\"1\" class=\"dataframe\">\n",
       "  <thead>\n",
       "    <tr style=\"text-align: right;\">\n",
       "      <th></th>\n",
       "      <th>Class</th>\n",
       "      <th>NER</th>\n",
       "    </tr>\n",
       "  </thead>\n",
       "  <tbody>\n",
       "  </tbody>\n",
       "</table>\n",
       "</div>"
      ],
      "text/plain": [
       "Empty DataFrame\n",
       "Columns: [Class, NER]\n",
       "Index: []"
      ]
     },
     "execution_count": 26,
     "metadata": {},
     "output_type": "execute_result"
    }
   ],
   "source": [
    "df_NER"
   ]
  },
  {
   "cell_type": "code",
   "execution_count": 116,
   "metadata": {},
   "outputs": [
    {
     "data": {
      "text/plain": [
       "(394, 394)"
      ]
     },
     "execution_count": 116,
     "metadata": {},
     "output_type": "execute_result"
    }
   ],
   "source": [
    "len(class_list),len(ner_list)"
   ]
  },
  {
   "cell_type": "code",
   "execution_count": null,
   "metadata": {},
   "outputs": [],
   "source": []
  },
  {
   "cell_type": "code",
   "execution_count": 129,
   "metadata": {},
   "outputs": [],
   "source": [
    "del test_df"
   ]
  },
  {
   "cell_type": "code",
   "execution_count": 99,
   "metadata": {},
   "outputs": [],
   "source": [
    "data_path_a = \"KCC_Data/KCCNews11554.csv\"\n",
    "data_path_b = \"KCC_Data/KCCNews11554.xls\""
   ]
  },
  {
   "cell_type": "code",
   "execution_count": 103,
   "metadata": {},
   "outputs": [
    {
     "name": "stdout",
     "output_type": "stream",
     "text": [
      "YES\n"
     ]
    }
   ],
   "source": [
    "if 'csv' in data_path_a[-4:]:\n",
    "    print(\"YES\")"
   ]
  },
  {
   "cell_type": "code",
   "execution_count": null,
   "metadata": {},
   "outputs": [],
   "source": []
  }
 ],
 "metadata": {
  "kernelspec": {
   "display_name": "Python 3",
   "language": "python",
   "name": "python3"
  },
  "language_info": {
   "codemirror_mode": {
    "name": "ipython",
    "version": 3
   },
   "file_extension": ".py",
   "mimetype": "text/x-python",
   "name": "python",
   "nbconvert_exporter": "python",
   "pygments_lexer": "ipython3",
   "version": "3.7.3"
  }
 },
 "nbformat": 4,
 "nbformat_minor": 4
}
