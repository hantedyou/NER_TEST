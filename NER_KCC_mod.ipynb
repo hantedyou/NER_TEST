{
 "cells": [
  {
   "cell_type": "code",
   "execution_count": null,
   "metadata": {},
   "outputs": [],
   "source": [
    "from ckiptagger import data_utils, construct_dictionary"
   ]
  },
  {
   "cell_type": "code",
   "execution_count": 1,
   "metadata": {},
   "outputs": [
    {
     "name": "stderr",
     "output_type": "stream",
     "text": [
      "Using TensorFlow backend.\n"
     ]
    }
   ],
   "source": [
    "import tensorflow as tf\n",
    "import keras\n",
    "\n",
    "import pandas as pd\n",
    "import numpy as np\n",
    "import matplotlib.pyplot as plt\n",
    "import gc\n"
   ]
  },
  {
   "cell_type": "code",
   "execution_count": 8,
   "metadata": {},
   "outputs": [],
   "source": [
    "def word_proc(data_path,column_name,\n",
    "              tt_begin = 0,tt_end = 50,\n",
    "              output_name=\"df_test_out.csv\"):\n",
    "    \"\"\"\n",
    "        data_path(str):資料路徑(字串)，輸入的資料應為pd.DataFrame\n",
    "        column_name(str):要處理的欄位名稱\n",
    "        tt_begin(int):起始列(整數)\n",
    "        tt_end(int):結束列(整數)\n",
    "        output_CSV_name:輸出的檔案名稱，指定為CSV檔    \n",
    "    \"\"\"\n",
    "    from ckiptagger import WS, POS, NER\n",
    "    data = pd.read_csv(data_path)\n",
    "    text = data[column_name]\n",
    "\n",
    "    ls_Test = list(text[tt_begin:tt_end])\n",
    "    print(\"Got list\\n Loading WS data...\")\n",
    "    \n",
    "    ws = WS(\"./data\")\n",
    "    print(\"============================\\n WS begun\\n============================\\n\")\n",
    "    word_sentence_list = ws(ls_Test\n",
    "                                # sentence_segmentation=True, # To consider delimiters\n",
    "                                # segment_delimiter_set = {\",\", \"。\", \":\", \"?\", \"!\", \";\"}),\n",
    "                                # This is the defualt set of delimiters\n",
    "                                # recommend_dictionary = dictionary1, # words in this dictionary are encouraged\n",
    "                                # coerce_dictionary = dictionary2, # words in this dictionary are forced\n",
    "                            )\n",
    "    del ws\n",
    "    del WS\n",
    "    gc.collect()\n",
    "    print(\"============================\\n WS finished\\n============================\\nLoading POS data...\")\n",
    "    \n",
    "    print(\"============================\\n POS begun\\n============================\\n\")\n",
    "    pos = POS(\"./data\")\n",
    "    pos_sentence_list = pos(word_sentence_list)\n",
    "    del pos\n",
    "    del POS\n",
    "    gc.collect()\n",
    "    print(\"============================\\n POS finished\\n============================\\nLoading NER data...\")\n",
    "    \n",
    "    ner = NER(\"./data\")\n",
    "    entity_sentence_list = ner(word_sentence_list, pos_sentence_list)\n",
    "    del NER\n",
    "    del ner\n",
    "    gc.collect()\n",
    "    print(\"============================\\n NER finished\\n============================\\n\")\n",
    "        \n",
    "    df_Test = pd.DataFrame(ls_Test,columns=[\"Text\"])\n",
    "    df_Test['WS'] = np.array(word_sentence_list)\n",
    "    df_Test['POS'] = np.array(pos_sentence_list)\n",
    "    df_Test['NER'] = np.array(entity_sentence_list)\n",
    "    print(\"============================\\n Dataframe Created \\n============================\\n\")\n",
    "        \n",
    "    df_Test.to_csv(output_name)\n",
    "    return df_Test,word_sentence_list,pos_sentence_list,entity_sentence_list"
   ]
  },
  {
   "cell_type": "code",
   "execution_count": 9,
   "metadata": {},
   "outputs": [],
   "source": [
    "data_path_a = \"KCC_Data/KCCNews11554.csv\"\n",
    "column_name_a = \"Text\"\n",
    "output_name_a = \"mod_test.csv\""
   ]
  },
  {
   "cell_type": "code",
   "execution_count": 10,
   "metadata": {},
   "outputs": [
    {
     "name": "stdout",
     "output_type": "stream",
     "text": [
      "Got list\n",
      " Loading WS data...\n",
      "============================\n",
      " WS begun\n",
      "============================\n",
      "\n",
      "============================\n",
      " WS finished\n",
      "============================\n",
      "Loading POS data...\n",
      "============================\n",
      " POS begun\n",
      "============================\n",
      "\n",
      "============================\n",
      " POS finished\n",
      "============================\n",
      "Loading NER data...\n",
      "============================\n",
      " NER finished\n",
      "============================\n",
      "\n",
      "============================\n",
      " Dataframe Created \n",
      "============================\n",
      "\n"
     ]
    }
   ],
   "source": [
    "demo_df,ws_list,pos_list,ner_list = word_proc(data_path = data_path_a,\n",
    "          column_name = column_name_a,\n",
    "          tt_begin = 100,tt_end = 180,\n",
    "          output_name=output_name_a)"
   ]
  },
  {
   "cell_type": "code",
   "execution_count": 11,
   "metadata": {},
   "outputs": [
    {
     "data": {
      "text/plain": [
       "(80, set, 17)"
      ]
     },
     "execution_count": 11,
     "metadata": {},
     "output_type": "execute_result"
    }
   ],
   "source": [
    "len(ner_list),type(ner_list[0]),len(ner_list[0])"
   ]
  },
  {
   "cell_type": "code",
   "execution_count": 15,
   "metadata": {},
   "outputs": [
    {
     "data": {
      "text/plain": [
       "(list,\n",
       " 80,\n",
       " [{(1, 6, 'ORG', '高雄市議會'),\n",
       "   (6, 10, 'ORG', '民進黨團'),\n",
       "   (16, 19, 'PERSON', '馬英九'),\n",
       "   (24, 27, 'PERSON', '陳水扁'),\n",
       "   (28, 31, 'ORG', '親民黨'),\n",
       "   (38, 40, 'PERSON', '阿扁'),\n",
       "   (66, 69, 'ORG', '親民黨'),\n",
       "   (87, 90, 'PERSON', '馬英九'),\n",
       "   (95, 98, 'PERSON', '陳水扁'),\n",
       "   (153, 156, 'ORG', '親民黨'),\n",
       "   (158, 159, 'PERSON', '馬'),\n",
       "   (190, 192, 'GPE', '高雄'),\n",
       "   (194, 196, 'PERSON', '陳菊'),\n",
       "   (217, 220, 'ORG', '親民黨'),\n",
       "   (231, 234, 'PERSON', '陳水扁'),\n",
       "   (235, 236, 'CARDINAL', '一'),\n",
       "   (263, 266, 'ORG', '親民黨')},\n",
       "  {(1, 19, 'EVENT', '高雄環狀輕軌捷運建設第二階段統包工程'),\n",
       "   (20, 22, 'DATE', '昨天'),\n",
       "   (29, 37, 'ORG', '西班牙CAF公司'),\n",
       "   (60, 62, 'ORDINAL', '第二'),\n",
       "   (92, 98, 'ORG', '高市府捷運局'),\n",
       "   (106, 108, 'ORDINAL', '第二'),\n",
       "   (135, 137, 'ORDINAL', '第二'),\n",
       "   (183, 185, 'ORG', '長鴻'),\n",
       "   (204, 207, 'ORG', '捷運局'),\n",
       "   (236, 238, 'CARDINAL', '二階'),\n",
       "   (247, 253, 'QUANTITY', '十三．四公里'),\n",
       "   (258, 261, 'CARDINAL', '二十三'),\n",
       "   (270, 272, 'ORDINAL', '第一'),\n",
       "   (278, 284, 'FAC', '捷運橘線O1'),\n",
       "   (285, 289, 'FAC', '西子灣站'),\n",
       "   (293, 296, 'ORG', '捷運局'),\n",
       "   (298, 304, 'FAC', '輕軌二階路線'),\n",
       "   (316, 323, 'FAC', '臨港線鐵路路廊'),\n",
       "   (327, 331, 'FAC', '台鐵園道'),\n",
       "   (332, 335, 'FAC', '美術館'),\n",
       "   (337, 341, 'FAC', '美術館路'),\n",
       "   (355, 358, 'CARDINAL', '農十六'),\n",
       "   (360, 364, 'LOC', '大順一路'),\n",
       "   (368, 371, 'FAC', '大順一'),\n",
       "   (372, 374, 'LOC', '三路'),\n",
       "   (385, 389, 'LOC', '中正路口'),\n",
       "   (393, 397, 'FAC', '凱旋公園'),\n",
       "   (403, 407, 'FAC', '凱旋二路'),\n",
       "   (410, 415, 'FAC', '台鐵臨港線'),\n",
       "   (424, 429, 'FAC', ' C1車站'),\n",
       "   (432, 440, 'ORG', '西班牙CAF公司'),\n",
       "   (463, 465, 'ORG', '長鴻'),\n",
       "   (469, 472, 'ORG', 'CAF'),\n",
       "   (491, 494, 'CARDINAL', '二階段'),\n",
       "   (497, 504, 'QUANTITY', '二十二．一公里'),\n",
       "   (508, 511, 'CARDINAL', '三十六'),\n",
       "   (516, 519, 'ORG', '捷運局'),\n",
       "   (531, 533, 'DATE', '一年'),\n",
       "   (544, 547, 'DATE', '三年半')}])"
      ]
     },
     "execution_count": 15,
     "metadata": {},
     "output_type": "execute_result"
    }
   ],
   "source": [
    "type(ner_list),len(ner_list),ner_list[:2]"
   ]
  },
  {
   "cell_type": "code",
   "execution_count": 16,
   "metadata": {},
   "outputs": [
    {
     "data": {
      "text/plain": [
       "(set,\n",
       " 17,\n",
       " 39,\n",
       " {(1, 6, 'ORG', '高雄市議會'),\n",
       "  (6, 10, 'ORG', '民進黨團'),\n",
       "  (16, 19, 'PERSON', '馬英九'),\n",
       "  (24, 27, 'PERSON', '陳水扁'),\n",
       "  (28, 31, 'ORG', '親民黨'),\n",
       "  (38, 40, 'PERSON', '阿扁'),\n",
       "  (66, 69, 'ORG', '親民黨'),\n",
       "  (87, 90, 'PERSON', '馬英九'),\n",
       "  (95, 98, 'PERSON', '陳水扁'),\n",
       "  (153, 156, 'ORG', '親民黨'),\n",
       "  (158, 159, 'PERSON', '馬'),\n",
       "  (190, 192, 'GPE', '高雄'),\n",
       "  (194, 196, 'PERSON', '陳菊'),\n",
       "  (217, 220, 'ORG', '親民黨'),\n",
       "  (231, 234, 'PERSON', '陳水扁'),\n",
       "  (235, 236, 'CARDINAL', '一'),\n",
       "  (263, 266, 'ORG', '親民黨')})"
      ]
     },
     "execution_count": 16,
     "metadata": {},
     "output_type": "execute_result"
    }
   ],
   "source": [
    "type(ner_list[0]),len(ner_list[0]),len(ner_list[1]),ner_list[0]"
   ]
  },
  {
   "cell_type": "code",
   "execution_count": null,
   "metadata": {},
   "outputs": [],
   "source": []
  }
 ],
 "metadata": {
  "kernelspec": {
   "display_name": "Python 3",
   "language": "python",
   "name": "python3"
  },
  "language_info": {
   "codemirror_mode": {
    "name": "ipython",
    "version": 3
   },
   "file_extension": ".py",
   "mimetype": "text/x-python",
   "name": "python",
   "nbconvert_exporter": "python",
   "pygments_lexer": "ipython3",
   "version": "3.7.3"
  }
 },
 "nbformat": 4,
 "nbformat_minor": 4
}
