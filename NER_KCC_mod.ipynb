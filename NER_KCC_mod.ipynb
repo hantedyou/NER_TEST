{
 "cells": [
  {
   "cell_type": "code",
   "execution_count": 1,
   "metadata": {},
   "outputs": [],
   "source": [
    "#from ckiptagger import data_utils, construct_dictionary"
   ]
  },
  {
   "cell_type": "markdown",
   "metadata": {},
   "source": [
    "# 1.載入需要的package，定義處理資料的function \"word_proc\""
   ]
  },
  {
   "cell_type": "code",
   "execution_count": 22,
   "metadata": {},
   "outputs": [],
   "source": [
    "import tensorflow as tf\n",
    "import keras\n",
    "\n",
    "import pandas as pd\n",
    "import numpy as np\n",
    "import matplotlib.pyplot as plt\n",
    "import gc\n"
   ]
  },
  {
   "cell_type": "code",
   "execution_count": 70,
   "metadata": {},
   "outputs": [],
   "source": [
    "def word_proc(data_path,\n",
    "              column_name,\n",
    "              tt_seg = (1,10),\n",
    "              export_flag = False, \n",
    "              #tt_begin = 0,tt_end = 50,\n",
    "              output_file = \"df_test_out.csv\"):\n",
    "    \"\"\"\n",
    "        data_path(str):資料路徑(字串)，輸入的資料應為CSV檔，ex:\n",
    "        column_name(str):要處理的欄位名稱\n",
    "        tt_begin(int):起始列(整數)\n",
    "        tt_end(int):結束列(整數)\n",
    "        output_CSV_name:輸出的檔案名稱，指定為CSV檔    \n",
    "    \"\"\"\n",
    "    from ckiptagger import WS, POS, NER\n",
    "    \n",
    "    file_type = data_path[-4:]\n",
    "    print(\"輸入檔案格式為 {}\".format(file_type))\n",
    "    if 'csv' in file_type:\n",
    "        data = pd.read_csv(data_path)\n",
    "    elif 'xls' in file_type:\n",
    "        data = pd.read_excel(data_path)\n",
    "    else:\n",
    "        #print(\"檔案須為CSV或XLS/XLSX\")\n",
    "        raise Exception(\"檔案須為CSV或XLS/XLSX\")\n",
    "        #return None\n",
    "    \n",
    "    column_list = list(data.columns)\n",
    "    if column_name in column_list:\n",
    "        text = data[column_name]\n",
    "    else:\n",
    "        print(\"輸入欄位\\\"{input_column}\\\"不存在\\n匯入檔案欄位{i_column_name}\".format(input_column = column_name,\n",
    "                                                                       i_column_name=str(column_list)))\n",
    "        raise Exception(\"不存在此欄位名稱\")\n",
    "\n",
    "    \n",
    "    #ls_Test = list(text[tt_begin:tt_end])\n",
    "    print(\"起始列數：{begin}\\n結束列數:{end}\".format(begin = (tt_seg[0]-1),end = tt_seg[1]))\n",
    "    ls_Test = list(text[(tt_seg[0]-1):tt_seg[1]])\n",
    "    \n",
    "    \n",
    "    print(\"Got list\\n 載入 WS 資料...\")\n",
    "    ws = WS(\"./data\")\n",
    "    print(\"============================\\n 開始執行 WS\\n============================\\n\")\n",
    "    word_sentence_list = ws(ls_Test\n",
    "                                # sentence_segmentation=True, # To consider delimiters\n",
    "                                # segment_delimiter_set = {\",\", \"。\", \":\", \"?\", \"!\", \";\"}),\n",
    "                                # This is the defualt set of delimiters\n",
    "                                # recommend_dictionary = dictionary1, # words in this dictionary are encouraged\n",
    "                                # coerce_dictionary = dictionary2, # words in this dictionary are forced\n",
    "                            )\n",
    "    del ws\n",
    "    del WS\n",
    "    gc.collect()\n",
    "    print(\"============================\\n WS 完成\\n============================\\n載入 POS 資料...\")\n",
    "    \n",
    "    print(\"============================\\n 開始執行 POS \\n============================\\n\")\n",
    "    pos = POS(\"./data\")\n",
    "    pos_sentence_list = pos(word_sentence_list)\n",
    "    del pos\n",
    "    del POS\n",
    "    gc.collect()\n",
    "    print(\"============================\\n POS 完成\\n============================\\n載入NER 資料...\")\n",
    "    \n",
    "    \n",
    "    print(\"============================\\n 開始執行 NER \\n============================\\n\")\n",
    "    ner = NER(\"./data\")\n",
    "    entity_sentence_list = ner(word_sentence_list, pos_sentence_list)\n",
    "    del NER\n",
    "    del ner\n",
    "    gc.collect()\n",
    "    print(\"============================\\n NER 完成\\n============================\\n\")\n",
    "        \n",
    "    df_Test = pd.DataFrame(ls_Test,columns=[column_name])\n",
    "    df_Test['WS'] = np.array(word_sentence_list)\n",
    "    \n",
    "    ##################\n",
    "    #print(\"DEBUG\")\n",
    "    #print(pos_sentence_list[:5])\n",
    "    ##################\n",
    "    \n",
    "    df_Test['POS'] = np.array(pos_sentence_list)\n",
    "    df_Test['NER'] = np.array(entity_sentence_list)\n",
    "    print(\"============================\\n Dataframe Created \\n============================\\n\")\n",
    "    \n",
    "    if export_flag is True:\n",
    "        df_Test.to_csv(output_name)\n",
    "        print(\"File Exported!!!!!\")\n",
    "    else:\n",
    "        print(\"處理完成，不產生檔案\")\n",
    "        \n",
    "    return df_Test,word_sentence_list,pos_sentence_list,entity_sentence_list"
   ]
  },
  {
   "cell_type": "markdown",
   "metadata": {},
   "source": [
    "# 2.參數設定\n",
    "### data_path_in    :要處理的檔案名稱(建議用絕對路徑)\n",
    "### column_name_in  :要處理的欄位名稱\n",
    "### proc_seg        :要處理的資料列起訖，格式為(起，迄)，均為整數，不可為0。\n",
    "### export_flag     :是否要匯出檔案，True/False\n",
    "### output_name     :匯出的檔案名稱，預設為CSV檔。"
   ]
  },
  {
   "cell_type": "code",
   "execution_count": 76,
   "metadata": {},
   "outputs": [],
   "source": [
    "data_path_in = \"KCC_Data/KCCNews11554.csv\"\n",
    "#data_path_c = 'KCC_Data/20160419-20190804-自由(985筆).xlsx'\n",
    "column_name_in = \"Text\"\n",
    "#column_name_c = \"Teddd\"\n",
    "proc_seg = (1,10)\n",
    "export_file = False\n",
    "output_name = \"mod_test.csv\""
   ]
  },
  {
   "cell_type": "code",
   "execution_count": 72,
   "metadata": {},
   "outputs": [
    {
     "name": "stdout",
     "output_type": "stream",
     "text": [
      "輸入檔案格式為 .csv\n",
      "起始列數：0\n",
      "結束列數:10\n",
      "Got list\n",
      " 載入 WS 資料...\n",
      "============================\n",
      " 開始執行 WS\n",
      "============================\n",
      "\n",
      "============================\n",
      " WS 完成\n",
      "============================\n",
      "載入 POS 資料...\n",
      "============================\n",
      " 開始執行 POS \n",
      "============================\n",
      "\n",
      "============================\n",
      " POS 完成\n",
      "============================\n",
      "載入NER 資料...\n",
      "============================\n",
      " 開始執行 NER \n",
      "============================\n",
      "\n",
      "============================\n",
      " NER 完成\n",
      "============================\n",
      "\n",
      "============================\n",
      " Dataframe Created \n",
      "============================\n",
      "\n",
      "處理完成，不產生檔案\n"
     ]
    }
   ],
   "source": [
    "demo_df,ws_list,pos_list,ner_list = word_proc(data_path = data_path_in,\n",
    "          column_name = column_name_in,\n",
    "          tt_seg = proc_seg,export_flag = export_file ,output_file=output_name)"
   ]
  },
  {
   "cell_type": "code",
   "execution_count": 74,
   "metadata": {},
   "outputs": [
    {
     "data": {
      "text/plain": [
       "(10, set, 45)"
      ]
     },
     "execution_count": 74,
     "metadata": {},
     "output_type": "execute_result"
    }
   ],
   "source": [
    "len(ner_list),type(ner_list[0]),len(ner_list[9])"
   ]
  },
  {
   "cell_type": "markdown",
   "metadata": {},
   "source": [
    "# 3.取出NER類別及專有名詞，分別存到df_class_list 及df_ner_list中\n",
    "# 4.將其組成有兩個欄位['類別','專有名詞']的DataFrame。"
   ]
  },
  {
   "cell_type": "code",
   "execution_count": 77,
   "metadata": {},
   "outputs": [
    {
     "name": "stdout",
     "output_type": "stream",
     "text": [
      "352\n"
     ]
    }
   ],
   "source": [
    "df_class_list = list()\n",
    "df_ner_list = list()\n",
    "\n",
    "count = 0\n",
    "for i in range(len(ner_list)):\n",
    "    for j in range(len(ner_list[i])):\n",
    "        count = count +1\n",
    "        a = ner_list[i].pop()\n",
    "        df_class_list.append(a[2])\n",
    "        df_ner_list.append(a[3])\n",
    "        #print(type(new_list[j]),(new_list[j]))\n",
    "print(count)"
   ]
  },
  {
   "cell_type": "code",
   "execution_count": 78,
   "metadata": {},
   "outputs": [],
   "source": [
    "extract_df = pd.DataFrame(\n",
    "{'類別':df_class_list,\n",
    " '專有名詞':df_ner_list\n",
    "})"
   ]
  },
  {
   "cell_type": "markdown",
   "metadata": {},
   "source": [
    "# 5.檢視DataFrame資訊，查看各類別分別有多少資料"
   ]
  },
  {
   "cell_type": "code",
   "execution_count": 86,
   "metadata": {},
   "outputs": [
    {
     "name": "stdout",
     "output_type": "stream",
     "text": [
      "         類別 專有名詞\n",
      "count   352  352\n",
      "unique   15  199\n",
      "top     GPE   高雄\n",
      "freq    108   32\n"
     ]
    },
    {
     "data": {
      "text/html": [
       "<div>\n",
       "<style scoped>\n",
       "    .dataframe tbody tr th:only-of-type {\n",
       "        vertical-align: middle;\n",
       "    }\n",
       "\n",
       "    .dataframe tbody tr th {\n",
       "        vertical-align: top;\n",
       "    }\n",
       "\n",
       "    .dataframe thead th {\n",
       "        text-align: right;\n",
       "    }\n",
       "</style>\n",
       "<table border=\"1\" class=\"dataframe\">\n",
       "  <thead>\n",
       "    <tr style=\"text-align: right;\">\n",
       "      <th></th>\n",
       "      <th>專有名詞</th>\n",
       "    </tr>\n",
       "    <tr>\n",
       "      <th>類別</th>\n",
       "      <th></th>\n",
       "    </tr>\n",
       "  </thead>\n",
       "  <tbody>\n",
       "    <tr>\n",
       "      <th>CARDINAL</th>\n",
       "      <td>22</td>\n",
       "    </tr>\n",
       "    <tr>\n",
       "      <th>DATE</th>\n",
       "      <td>35</td>\n",
       "    </tr>\n",
       "    <tr>\n",
       "      <th>EVENT</th>\n",
       "      <td>3</td>\n",
       "    </tr>\n",
       "    <tr>\n",
       "      <th>FAC</th>\n",
       "      <td>12</td>\n",
       "    </tr>\n",
       "    <tr>\n",
       "      <th>GPE</th>\n",
       "      <td>108</td>\n",
       "    </tr>\n",
       "    <tr>\n",
       "      <th>LANGUAGE</th>\n",
       "      <td>1</td>\n",
       "    </tr>\n",
       "    <tr>\n",
       "      <th>LAW</th>\n",
       "      <td>1</td>\n",
       "    </tr>\n",
       "    <tr>\n",
       "      <th>LOC</th>\n",
       "      <td>1</td>\n",
       "    </tr>\n",
       "    <tr>\n",
       "      <th>MONEY</th>\n",
       "      <td>6</td>\n",
       "    </tr>\n",
       "    <tr>\n",
       "      <th>NORP</th>\n",
       "      <td>10</td>\n",
       "    </tr>\n",
       "    <tr>\n",
       "      <th>ORDINAL</th>\n",
       "      <td>6</td>\n",
       "    </tr>\n",
       "    <tr>\n",
       "      <th>ORG</th>\n",
       "      <td>82</td>\n",
       "    </tr>\n",
       "    <tr>\n",
       "      <th>PERCENT</th>\n",
       "      <td>4</td>\n",
       "    </tr>\n",
       "    <tr>\n",
       "      <th>PERSON</th>\n",
       "      <td>58</td>\n",
       "    </tr>\n",
       "    <tr>\n",
       "      <th>TIME</th>\n",
       "      <td>3</td>\n",
       "    </tr>\n",
       "  </tbody>\n",
       "</table>\n",
       "</div>"
      ],
      "text/plain": [
       "          專有名詞\n",
       "類別            \n",
       "CARDINAL    22\n",
       "DATE        35\n",
       "EVENT        3\n",
       "FAC         12\n",
       "GPE        108\n",
       "LANGUAGE     1\n",
       "LAW          1\n",
       "LOC          1\n",
       "MONEY        6\n",
       "NORP        10\n",
       "ORDINAL      6\n",
       "ORG         82\n",
       "PERCENT      4\n",
       "PERSON      58\n",
       "TIME         3"
      ]
     },
     "execution_count": 86,
     "metadata": {},
     "output_type": "execute_result"
    }
   ],
   "source": [
    "print(extract_df.describe())\n",
    "extract_df.groupby('類別').count()"
   ]
  },
  {
   "cell_type": "markdown",
   "metadata": {},
   "source": [
    "# 6-1.DataFrame處理 ─ 刪除重複資料"
   ]
  },
  {
   "cell_type": "code",
   "execution_count": 80,
   "metadata": {},
   "outputs": [
    {
     "data": {
      "text/plain": [
       "(352, 204)"
      ]
     },
     "execution_count": 80,
     "metadata": {},
     "output_type": "execute_result"
    }
   ],
   "source": [
    "dd_extract_df = extract_df.drop_duplicates()\n",
    "len(extract_df),len(dd_extract_df)"
   ]
  },
  {
   "cell_type": "markdown",
   "metadata": {},
   "source": [
    "# 6-2.DataFrame處理 ─ 挑出需要匯出的類別"
   ]
  },
  {
   "cell_type": "code",
   "execution_count": 88,
   "metadata": {},
   "outputs": [
    {
     "data": {
      "text/plain": [
       "array(['ORG', 'PERSON', 'GPE', 'FAC', 'DATE', 'TIME', 'LOC', 'ORDINAL',\n",
       "       'PERCENT', 'MONEY', 'NORP', 'CARDINAL', 'LANGUAGE', 'LAW', 'EVENT'],\n",
       "      dtype=object)"
      ]
     },
     "execution_count": 88,
     "metadata": {},
     "output_type": "execute_result"
    }
   ],
   "source": [
    "dd_extract_df['類別'].unique()"
   ]
  },
  {
   "cell_type": "code",
   "execution_count": 82,
   "metadata": {},
   "outputs": [
    {
     "data": {
      "text/plain": [
       "126"
      ]
     },
     "execution_count": 82,
     "metadata": {},
     "output_type": "execute_result"
    }
   ],
   "source": [
    "df_exp = dd_extract_df.loc[dd_extract_df['類別'].isin(['LOC','PERSON', 'ORG', 'LAW', 'EVENT','GPE'])]\n",
    "len(df_exp)\n",
    "#https://stackoverflow.com/questions/17071871/how-to-select-rows-from-a-dataframe-based-on-column-values"
   ]
  },
  {
   "cell_type": "markdown",
   "metadata": {},
   "source": [
    "# 6-3.DataFrame處理 ─ 刪掉長度小於2的專有名詞"
   ]
  },
  {
   "cell_type": "code",
   "execution_count": 90,
   "metadata": {},
   "outputs": [
    {
     "data": {
      "text/plain": [
       "121"
      ]
     },
     "execution_count": 90,
     "metadata": {},
     "output_type": "execute_result"
    }
   ],
   "source": [
    "df_exp_2 = df_exp[df_exp['專有名詞'].map(len) >= 2].copy()\n",
    "len(df_exp_2)"
   ]
  },
  {
   "cell_type": "code",
   "execution_count": 91,
   "metadata": {},
   "outputs": [
    {
     "data": {
      "text/html": [
       "<div>\n",
       "<style scoped>\n",
       "    .dataframe tbody tr th:only-of-type {\n",
       "        vertical-align: middle;\n",
       "    }\n",
       "\n",
       "    .dataframe tbody tr th {\n",
       "        vertical-align: top;\n",
       "    }\n",
       "\n",
       "    .dataframe thead th {\n",
       "        text-align: right;\n",
       "    }\n",
       "</style>\n",
       "<table border=\"1\" class=\"dataframe\">\n",
       "  <thead>\n",
       "    <tr style=\"text-align: right;\">\n",
       "      <th></th>\n",
       "      <th>類別</th>\n",
       "      <th>專有名詞</th>\n",
       "    </tr>\n",
       "  </thead>\n",
       "  <tbody>\n",
       "    <tr>\n",
       "      <th>4</th>\n",
       "      <td>GPE</td>\n",
       "      <td>臺灣</td>\n",
       "    </tr>\n",
       "    <tr>\n",
       "      <th>0</th>\n",
       "      <td>ORG</td>\n",
       "      <td>臺北國 家兩廳院</td>\n",
       "    </tr>\n",
       "    <tr>\n",
       "      <th>1</th>\n",
       "      <td>PERSON</td>\n",
       "      <td>馬英九</td>\n",
       "    </tr>\n",
       "    <tr>\n",
       "      <th>2</th>\n",
       "      <td>PERSON</td>\n",
       "      <td>簡文彬</td>\n",
       "    </tr>\n",
       "    <tr>\n",
       "      <th>3</th>\n",
       "      <td>PERSON</td>\n",
       "      <td>洪孟啟</td>\n",
       "    </tr>\n",
       "  </tbody>\n",
       "</table>\n",
       "</div>"
      ],
      "text/plain": [
       "       類別      專有名詞\n",
       "4     GPE        臺灣\n",
       "0     ORG  臺北國 家兩廳院\n",
       "1  PERSON       馬英九\n",
       "2  PERSON       簡文彬\n",
       "3  PERSON       洪孟啟"
      ]
     },
     "execution_count": 91,
     "metadata": {},
     "output_type": "execute_result"
    }
   ],
   "source": [
    "df_exp_2[:5].sort_values(by=['類別'])"
   ]
  },
  {
   "cell_type": "markdown",
   "metadata": {},
   "source": [
    "# 7.將轉出的類別及專有名詞匯出成CSV檔\n",
    "### (1)路徑：\\\\NER\\\\NER_export\n",
    "### (2)檔案命名： NER_rlt_來源檔名_起始列數_結尾列數\n",
    "### EX：來源檔名為KCCNews11554，本次處理的起訖列數為1~100\n",
    "###     則檔名為 NER_rlt_KCCNews11554_1_100.csv\n"
   ]
  },
  {
   "cell_type": "code",
   "execution_count": 106,
   "metadata": {},
   "outputs": [],
   "source": [
    "ex_NER_file_name =  \"NER_rlt_KCCNews11553_1_10\"\n",
    "df_exp_2.to_csv(\"D:\\python_kcc\\\\NER\\\\NER_export\\\\\" + ex_NER_file_name + \".csv\")"
   ]
  }
 ],
 "metadata": {
  "kernelspec": {
   "display_name": "Python 3",
   "language": "python",
   "name": "python3"
  },
  "language_info": {
   "codemirror_mode": {
    "name": "ipython",
    "version": 3
   },
   "file_extension": ".py",
   "mimetype": "text/x-python",
   "name": "python",
   "nbconvert_exporter": "python",
   "pygments_lexer": "ipython3",
   "version": "3.7.3"
  }
 },
 "nbformat": 4,
 "nbformat_minor": 4
}
